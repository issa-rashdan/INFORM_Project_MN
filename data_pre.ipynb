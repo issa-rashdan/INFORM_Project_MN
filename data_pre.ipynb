{
 "cells": [
  {
   "cell_type": "markdown",
   "id": "8d94b585",
   "metadata": {},
   "source": [
    "## 1. Data Import and Setup"
   ]
  },
  {
   "cell_type": "code",
   "execution_count": 1,
   "id": "7df1bb78",
   "metadata": {},
   "outputs": [
    {
     "name": "stdout",
     "output_type": "stream",
     "text": [
      "Selected 10 echograms from year 2014\n",
      "Number of echograms: 10\n"
     ]
    }
   ],
   "source": [
    "import sys\n",
    "sys.path.append(\"/INFORM_Project_MN\")  # Adjust the path as needed\n",
    "import numpy as np\n",
    "from data.echosounder_data.load_data.get_echograms_2 import get_echograms, count_classes_in_echograms\n",
    "\n",
    "# You can select a specific year or use 'all' to include multiple years.\n",
    "years = 2014\n",
    "minimum_shape = 224\n",
    "tuple_frequencies = (18, 38, 70, 120, 200, 333)\n",
    "echograms = get_echograms(years=years, tuple_frequencies=tuple_frequencies, minimum_shape=minimum_shape)\n",
    "print(f\"Number of echograms: {len(echograms)}\")"
   ]
  },
  {
   "cell_type": "markdown",
   "id": "42e5b56a",
   "metadata": {},
   "source": [
    "# 2. Train-Test Split"
   ]
  },
  {
   "cell_type": "code",
   "execution_count": 4,
   "id": "84c6d764",
   "metadata": {},
   "outputs": [
    {
     "name": "stdout",
     "output_type": "stream",
     "text": [
      "Train Echograms: 8\n",
      "Test Echograms: 2\n",
      "Saved to:\n",
      "Train: c:\\Users\\Admin\\OneDrive\\Skrivebord\\INFORM_Project_MN\\Data Spilt\\train\n",
      "Test: c:\\Users\\Admin\\OneDrive\\Skrivebord\\INFORM_Project_MN\\Data Spilt\\test\n"
     ]
    }
   ],
   "source": [
    "import os\n",
    "import random\n",
    "import numpy as np\n",
    "\n",
    "# Randomly split echograms into train/test\n",
    "random.seed(42)  # Set a seed for reproducibility\n",
    "Train_eg = []\n",
    "test_eg = []\n",
    "\n",
    "# Create a copy of echograms list before shuffling\n",
    "echograms_list = list(echograms)\n",
    "random.shuffle(echograms_list)\n",
    "\n",
    "# Split into train/test sets\n",
    "split_idx = int(0.8 * len(echograms_list))\n",
    "Train_eg = echograms_list[:split_idx]\n",
    "test_eg = echograms_list[split_idx:]\n",
    "\n",
    "# Define directories using Windows path style\n",
    "base_dir = os.path.join(os.getcwd(), 'Data Spilt')\n",
    "train_dir = os.path.join(base_dir, 'train')\n",
    "test_dir = os.path.join(base_dir, 'test')\n",
    "\n",
    "# Create directories if they don't exist\n",
    "os.makedirs(train_dir, exist_ok=True)\n",
    "os.makedirs(test_dir, exist_ok=True)\n",
    "\n",
    "# Save the echograms to files\n",
    "for i, echogram in enumerate(Train_eg):\n",
    "    save_path = os.path.join(train_dir, f'echogram_{i}.npy')\n",
    "    np.save(save_path, echogram)\n",
    "\n",
    "for i, echogram in enumerate(test_eg):\n",
    "    save_path = os.path.join(test_dir, f'echogram_{i}.npy')\n",
    "    np.save(save_path, echogram)\n",
    "\n",
    "# Print the number of echograms in each set\n",
    "print('Train Echograms:', len(Train_eg))\n",
    "print('Test Echograms:', len(test_eg))\n",
    "print(f'Saved to:\\nTrain: {train_dir}\\nTest: {test_dir}')"
   ]
  }
 ],
 "metadata": {
  "kernelspec": {
   "display_name": "Python 3",
   "language": "python",
   "name": "python3"
  },
  "language_info": {
   "codemirror_mode": {
    "name": "ipython",
    "version": 3
   },
   "file_extension": ".py",
   "mimetype": "text/x-python",
   "name": "python",
   "nbconvert_exporter": "python",
   "pygments_lexer": "ipython3",
   "version": "3.9.13"
  }
 },
 "nbformat": 4,
 "nbformat_minor": 5
}
